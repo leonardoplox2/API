{
 "cells": [
  {
   "cell_type": "code",
   "execution_count": 5,
   "id": "3d7c2b91",
   "metadata": {},
   "outputs": [],
   "source": [
    "# Autor: Mg. Flor Elizabeth Cerdán León\n",
    "# Primero importar las librerías\n",
    "import pandas as pd\n",
    "import numpy as np\n",
    "import matplotlib.pyplot as plt \n",
    "import seaborn as sb\n",
    "# Estoy accediendo al archivo CSV y copiandolo a un dataframe\n",
    "dataframe = pd.read_csv('Data_limpia_Maternal_Risk_base_de_datos.csv',sep=',')\n",
    "clasificadores = ['Bajo', 'Intermedio', 'Alto']\n"
   ]
  },
  {
   "cell_type": "code",
   "execution_count": 6,
   "id": "4075f8b5",
   "metadata": {},
   "outputs": [
    {
     "data": {
      "text/html": [
       "<div>\n",
       "<style scoped>\n",
       "    .dataframe tbody tr th:only-of-type {\n",
       "        vertical-align: middle;\n",
       "    }\n",
       "\n",
       "    .dataframe tbody tr th {\n",
       "        vertical-align: top;\n",
       "    }\n",
       "\n",
       "    .dataframe thead th {\n",
       "        text-align: right;\n",
       "    }\n",
       "</style>\n",
       "<table border=\"1\" class=\"dataframe\">\n",
       "  <thead>\n",
       "    <tr style=\"text-align: right;\">\n",
       "      <th></th>\n",
       "      <th>Age</th>\n",
       "      <th>SystolicBP</th>\n",
       "      <th>DiastolicBP</th>\n",
       "      <th>BS</th>\n",
       "      <th>BodyTemp</th>\n",
       "      <th>HeartRate</th>\n",
       "      <th>RiskLevel</th>\n",
       "    </tr>\n",
       "  </thead>\n",
       "  <tbody>\n",
       "    <tr>\n",
       "      <th>0</th>\n",
       "      <td>25</td>\n",
       "      <td>130</td>\n",
       "      <td>80</td>\n",
       "      <td>15.00</td>\n",
       "      <td>98.0</td>\n",
       "      <td>86</td>\n",
       "      <td>3</td>\n",
       "    </tr>\n",
       "    <tr>\n",
       "      <th>1</th>\n",
       "      <td>35</td>\n",
       "      <td>140</td>\n",
       "      <td>90</td>\n",
       "      <td>13.00</td>\n",
       "      <td>98.0</td>\n",
       "      <td>70</td>\n",
       "      <td>3</td>\n",
       "    </tr>\n",
       "    <tr>\n",
       "      <th>2</th>\n",
       "      <td>29</td>\n",
       "      <td>90</td>\n",
       "      <td>70</td>\n",
       "      <td>8.00</td>\n",
       "      <td>100.0</td>\n",
       "      <td>80</td>\n",
       "      <td>3</td>\n",
       "    </tr>\n",
       "    <tr>\n",
       "      <th>3</th>\n",
       "      <td>30</td>\n",
       "      <td>140</td>\n",
       "      <td>85</td>\n",
       "      <td>7.00</td>\n",
       "      <td>98.0</td>\n",
       "      <td>70</td>\n",
       "      <td>3</td>\n",
       "    </tr>\n",
       "    <tr>\n",
       "      <th>4</th>\n",
       "      <td>35</td>\n",
       "      <td>120</td>\n",
       "      <td>60</td>\n",
       "      <td>6.10</td>\n",
       "      <td>98.0</td>\n",
       "      <td>76</td>\n",
       "      <td>1</td>\n",
       "    </tr>\n",
       "    <tr>\n",
       "      <th>5</th>\n",
       "      <td>23</td>\n",
       "      <td>140</td>\n",
       "      <td>80</td>\n",
       "      <td>7.01</td>\n",
       "      <td>98.0</td>\n",
       "      <td>70</td>\n",
       "      <td>3</td>\n",
       "    </tr>\n",
       "    <tr>\n",
       "      <th>6</th>\n",
       "      <td>23</td>\n",
       "      <td>130</td>\n",
       "      <td>70</td>\n",
       "      <td>7.01</td>\n",
       "      <td>98.0</td>\n",
       "      <td>78</td>\n",
       "      <td>2</td>\n",
       "    </tr>\n",
       "    <tr>\n",
       "      <th>7</th>\n",
       "      <td>35</td>\n",
       "      <td>85</td>\n",
       "      <td>60</td>\n",
       "      <td>11.00</td>\n",
       "      <td>102.0</td>\n",
       "      <td>86</td>\n",
       "      <td>3</td>\n",
       "    </tr>\n",
       "    <tr>\n",
       "      <th>8</th>\n",
       "      <td>32</td>\n",
       "      <td>120</td>\n",
       "      <td>90</td>\n",
       "      <td>6.90</td>\n",
       "      <td>98.0</td>\n",
       "      <td>70</td>\n",
       "      <td>2</td>\n",
       "    </tr>\n",
       "    <tr>\n",
       "      <th>9</th>\n",
       "      <td>42</td>\n",
       "      <td>130</td>\n",
       "      <td>80</td>\n",
       "      <td>18.00</td>\n",
       "      <td>98.0</td>\n",
       "      <td>70</td>\n",
       "      <td>3</td>\n",
       "    </tr>\n",
       "  </tbody>\n",
       "</table>\n",
       "</div>"
      ],
      "text/plain": [
       "   Age  SystolicBP  DiastolicBP     BS  BodyTemp  HeartRate  RiskLevel\n",
       "0   25         130           80  15.00      98.0         86          3\n",
       "1   35         140           90  13.00      98.0         70          3\n",
       "2   29          90           70   8.00     100.0         80          3\n",
       "3   30         140           85   7.00      98.0         70          3\n",
       "4   35         120           60   6.10      98.0         76          1\n",
       "5   23         140           80   7.01      98.0         70          3\n",
       "6   23         130           70   7.01      98.0         78          2\n",
       "7   35          85           60  11.00     102.0         86          3\n",
       "8   32         120           90   6.90      98.0         70          2\n",
       "9   42         130           80  18.00      98.0         70          3"
      ]
     },
     "execution_count": 6,
     "metadata": {},
     "output_type": "execute_result"
    }
   ],
   "source": [
    "dataframe.head(10)"
   ]
  },
  {
   "cell_type": "code",
   "execution_count": 7,
   "id": "c5dd8918",
   "metadata": {},
   "outputs": [
    {
     "data": {
      "text/plain": [
       "<seaborn.axisgrid.FacetGrid at 0x288db392550>"
      ]
     },
     "execution_count": 7,
     "metadata": {},
     "output_type": "execute_result"
    },
    {
     "data": {
      "image/png": "[encoded data removed]",
      "text/plain": [
       "<Figure size 200x250 with 1 Axes>"
      ]
     },
     "metadata": {},
     "output_type": "display_data"
    }
   ],
   "source": [
    "import seaborn as sb\n",
    "sb.catplot(x = 'RiskLevel',data=dataframe,kind=\"count\", height=2.5, aspect=.8)"
   ]
  },
  {
   "cell_type": "code",
   "execution_count": 8,
   "id": "ab9088a1",
   "metadata": {},
   "outputs": [],
   "source": [
    "# Separamos el dataframe en x y\n",
    "y = dataframe['RiskLevel']\n",
    "x = dataframe.drop('RiskLevel', axis=1)"
   ]
  },
  {
   "cell_type": "code",
   "execution_count": 10,
   "id": "26386eb0",
   "metadata": {},
   "outputs": [
    {
     "name": "stdout",
     "output_type": "stream",
     "text": [
      "              precision    recall  f1-score   support\n",
      "\n",
      "           1       0.85      0.84      0.84       112\n",
      "           2       0.80      0.83      0.82       109\n",
      "           3       0.90      0.86      0.88        83\n",
      "\n",
      "    accuracy                           0.84       304\n",
      "   macro avg       0.85      0.84      0.85       304\n",
      "weighted avg       0.84      0.84      0.84       304\n",
      "\n"
     ]
    }
   ],
   "source": [
    "from sklearn.model_selection import train_test_split\n",
    "\n",
    "x_train,x_test,y_train, y_test = train_test_split(x,y,test_size=0.3, random_state=25)\n",
    "\n",
    "from sklearn.ensemble import RandomForestClassifier\n",
    "Peso_randomforest =RandomForestClassifier(n_estimators=80)\n",
    "\n",
    "\n",
    "#Entrenar el algoritmo\n",
    "Peso_randomforest.fit(x_train,y_train)\n",
    "\n",
    "predicciones = Peso_randomforest.predict(x_test)\n",
    "\n",
    "from sklearn.metrics import classification_report, confusion_matrix\n",
    "\n",
    "sb.heatmap(confusion_matrix(y_test,predicciones), annot=True, fmt=\"d\")\n",
    "plt.title('Confusion Matrix')\n",
    "plt.xlabel('Predicted')\n",
    "plt.ylabel('True')\n",
    "\n",
    "#print(classification_report(y_test,predicciones,target_names=clasificadores))\n",
    "print(classification_report(y_test,predicciones))"
   ]
  },
  {
   "cell_type": "code",
   "execution_count": 11,
   "id": "299278bb",
   "metadata": {},
   "outputs": [
    {
     "name": "stdout",
     "output_type": "stream",
     "text": [
      "              precision    recall  f1-score   support\n",
      "\n",
      "           1       0.86      0.81      0.83       124\n",
      "           2       0.72      0.81      0.76       103\n",
      "           3       0.86      0.82      0.84        77\n",
      "\n",
      "    accuracy                           0.81       304\n",
      "   macro avg       0.82      0.81      0.81       304\n",
      "weighted avg       0.81      0.81      0.81       304\n",
      "\n"
     ]
    }
   ],
   "source": [
    "from sklearn.model_selection import train_test_split\n",
    "\n",
    "x_train,x_test,y_train, y_test = train_test_split(x,y,test_size=0.3, random_state=50)\n",
    "\n",
    "from sklearn.ensemble import RandomForestClassifier\n",
    "Peso_randomforest =RandomForestClassifier(n_estimators=70)\n",
    "\n",
    "\n",
    "#Entrenar el algoritmo\n",
    "Peso_randomforest.fit(x_train,y_train)\n",
    "\n",
    "predicciones = Peso_randomforest.predict(x_test)\n",
    "\n",
    "from sklearn.metrics import classification_report, confusion_matrix\n",
    "\n",
    "sb.heatmap(confusion_matrix(y_test,predicciones), annot=True, fmt=\"d\")\n",
    "plt.title('Confusion Matrix')\n",
    "plt.xlabel('Predicted')\n",
    "plt.ylabel('True')\n",
    "\n",
    "#print(classification_report(y_test,predicciones,target_names=clasificadores))\n",
    "print(classification_report(y_test,predicciones))"
   ]
  },
  {
   "cell_type": "code",
   "execution_count": null,
   "id": "29a9532d",
   "metadata": {},
   "outputs": [],
   "source": []
  }
 ],
 "metadata": {
  "kernelspec": {
   "display_name": "Python 3 (ipykernel)",
   "language": "python",
   "name": "python3"
  },
  "language_info": {
   "codemirror_mode": {
    "name": "ipython",
    "version": 3
   },
   "file_extension": ".py",
   "mimetype": "text/x-python",
   "name": "python",
   "nbconvert_exporter": "python",
   "pygments_lexer": "ipython3",
   "version": "3.9.13"
  }
 },
 "nbformat": 4,
 "nbformat_minor": 5
}
