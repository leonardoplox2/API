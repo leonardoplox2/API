{
 "cells": [
  {
   "cell_type": "code",
   "execution_count": 13,
   "id": "3d7c2b91",
   "metadata": {},
   "outputs": [
    {
     "name": "stdout",
     "output_type": "stream",
     "text": [
      "\n",
      "✅ Precisión del modelo SVM: 0.87\n",
      "\n",
      "📋 Reporte de Clasificación:\n",
      "              precision    recall  f1-score   support\n",
      "\n",
      "           0       0.90      0.90      0.90       353\n",
      "           1       0.80      0.79      0.80       177\n",
      "\n",
      "    accuracy                           0.87       530\n",
      "   macro avg       0.85      0.85      0.85       530\n",
      "weighted avg       0.87      0.87      0.87       530\n",
      "\n"
     ]
    },
    {
     "data": {
      "image/png": "[encoded data removed]",
      "text/plain": [
       "<Figure size 600x400 with 2 Axes>"
      ]
     },
     "metadata": {},
     "output_type": "display_data"
    },
    {
     "name": "stdout",
     "output_type": "stream",
     "text": [
      "\n",
      "📦 Modelo y escalador guardados como 'modelo_entrenado.pkl' y 'escalador.pkl'.\n"
     ]
    }
   ],
   "source": [
    "import pandas as pd\n",
    "import matplotlib.pyplot as plt\n",
    "import seaborn as sns\n",
    "import pickle\n",
    "from sklearn.model_selection import train_test_split\n",
    "from sklearn.preprocessing import StandardScaler\n",
    "from sklearn.svm import SVC\n",
    "from sklearn.metrics import accuracy_score, classification_report, confusion_matrix\n",
    "\n",
    "# 1. Cargar dataset\n",
    "df = pd.read_csv(\"DATASET_RIOSAVILA_EC1.csv\")\n",
    "\n",
    "# 2. Eliminar columna ID si existe\n",
    "if \"ID\" in df.columns:\n",
    "    df = df.drop(\"ID\", axis=1)\n",
    "\n",
    "# 3. Separar características (X) y etiquetas (y)\n",
    "X = df.drop(\"RESULT\", axis=1)\n",
    "y = df[\"RESULT\"]\n",
    "\n",
    "# 4. División entrenamiento / prueba\n",
    "X_train, X_test, y_train, y_test = train_test_split(X, y, test_size=0.6, random_state=42)\n",
    "\n",
    "# 5. Escalado\n",
    "scaler = StandardScaler()\n",
    "X_train_scaled = scaler.fit_transform(X_train)\n",
    "X_test_scaled = scaler.transform(X_test)\n",
    "\n",
    "# 6. Entrenamiento del modelo\n",
    "model = SVC(kernel='linear', random_state=42)\n",
    "model.fit(X_train_scaled, y_train)\n",
    "\n",
    "# 7. Predicciones\n",
    "y_pred = model.predict(X_test_scaled)\n",
    "\n",
    "# 8. Evaluación\n",
    "accuracy = accuracy_score(y_test, y_pred)\n",
    "print(f\"\\n✅ Precisión del modelo SVM: {accuracy:.2f}\\n\")\n",
    "\n",
    "# Reporte de clasificación\n",
    "report = classification_report(y_test, y_pred)\n",
    "print(\"📋 Reporte de Clasificación:\")\n",
    "print(report)\n",
    "\n",
    "# Matriz de Confusión\n",
    "conf_matrix = confusion_matrix(y_test, y_pred)\n",
    "plt.figure(figsize=(6, 4))\n",
    "sns.heatmap(conf_matrix, annot=True, fmt='d', cmap='Greens',\n",
    "            xticklabels=model.classes_, yticklabels=model.classes_)\n",
    "plt.xlabel('Predicción')\n",
    "plt.ylabel('Real')\n",
    "plt.title('Matriz de Confusión - SVM')\n",
    "plt.tight_layout()\n",
    "plt.show()\n",
    "\n",
    "# 9. Guardar modelo y escalador con pickle\n",
    "with open(\"modelo_entrenado.pkl\", \"wb\") as f_model:\n",
    "    pickle.dump(model, f_model)\n",
    "\n",
    "with open(\"escalador.pkl\", \"wb\") as f_scaler:\n",
    "    pickle.dump(scaler, f_scaler)\n",
    "\n",
    "print(\"\\n📦 Modelo y escalador guardados como 'modelo_entrenado.pkl' y 'escalador.pkl'.\")\n"
   ]
  },
  {
   "cell_type": "code",
   "execution_count": 8,
   "id": "49eabcce",
   "metadata": {},
   "outputs": [
    {
     "ename": "FileNotFoundError",
     "evalue": "[Errno 2] No such file or directory: 'modelo/modelo_entrenado.pkl'",
     "output_type": "error",
     "traceback": [
      "\u001b[1;31m---------------------------------------------------------------------------\u001b[0m",
      "\u001b[1;31mFileNotFoundError\u001b[0m                         Traceback (most recent call last)",
      "\u001b[1;32m~\\AppData\\Local\\Temp\\ipykernel_22960\\1407064113.py\u001b[0m in \u001b[0;36m<module>\u001b[1;34m\u001b[0m\n\u001b[0;32m      1\u001b[0m \u001b[1;31m# 7. Guardar modelo y escalador con pickle\u001b[0m\u001b[1;33m\u001b[0m\u001b[1;33m\u001b[0m\u001b[0m\n\u001b[1;32m----> 2\u001b[1;33m \u001b[1;32mwith\u001b[0m \u001b[0mopen\u001b[0m\u001b[1;33m(\u001b[0m\u001b[1;34m\"modelo/modelo_entrenado.pkl\"\u001b[0m\u001b[1;33m,\u001b[0m \u001b[1;34m\"wb\"\u001b[0m\u001b[1;33m)\u001b[0m \u001b[1;32mas\u001b[0m \u001b[0mf\u001b[0m\u001b[1;33m:\u001b[0m\u001b[1;33m\u001b[0m\u001b[1;33m\u001b[0m\u001b[0m\n\u001b[0m\u001b[0;32m      3\u001b[0m     \u001b[0mpickle\u001b[0m\u001b[1;33m.\u001b[0m\u001b[0mdump\u001b[0m\u001b[1;33m(\u001b[0m\u001b[0mmodel\u001b[0m\u001b[1;33m,\u001b[0m \u001b[0mf\u001b[0m\u001b[1;33m)\u001b[0m\u001b[1;33m\u001b[0m\u001b[1;33m\u001b[0m\u001b[0m\n\u001b[0;32m      4\u001b[0m \u001b[1;33m\u001b[0m\u001b[0m\n\u001b[0;32m      5\u001b[0m \u001b[1;32mwith\u001b[0m \u001b[0mopen\u001b[0m\u001b[1;33m(\u001b[0m\u001b[1;34m\"modelo/escalador.pkl\"\u001b[0m\u001b[1;33m,\u001b[0m \u001b[1;34m\"wb\"\u001b[0m\u001b[1;33m)\u001b[0m \u001b[1;32mas\u001b[0m \u001b[0mf\u001b[0m\u001b[1;33m:\u001b[0m\u001b[1;33m\u001b[0m\u001b[1;33m\u001b[0m\u001b[0m\n",
      "\u001b[1;31mFileNotFoundError\u001b[0m: [Errno 2] No such file or directory: 'modelo/modelo_entrenado.pkl'"
     ]
    }
   ],
   "source": [
    "# 7. Guardar modelo y escalador con pickle\n",
    "with open(\"modelo/modelo_entrenado.pkl\", \"wb\") as f:\n",
    "    pickle.dump(model, f)\n",
    "\n",
    "with open(\"modelo/escalador.pkl\", \"wb\") as f:\n",
    "    pickle.dump(scaler, f)\n",
    "\n",
    "print(\"✅ Modelo y escalador guardados correctamente con pickle.\")"
   ]
  },
  {
   "cell_type": "code",
   "execution_count": 7,
   "id": "125a09a5",
   "metadata": {},
   "outputs": [
    {
     "data": {
      "text/plain": [
       "['escalador.pkl']"
      ]
     },
     "execution_count": 7,
     "metadata": {},
     "output_type": "execute_result"
    }
   ],
   "source": []
  },
  {
   "cell_type": "code",
   "execution_count": null,
   "id": "4075f8b5",
   "metadata": {},
   "outputs": [],
   "source": []
  }
 ],
 "metadata": {
  "kernelspec": {
   "display_name": "Python 3 (ipykernel)",
   "language": "python",
   "name": "python3"
  },
  "language_info": {
   "codemirror_mode": {
    "name": "ipython",
    "version": 3
   },
   "file_extension": ".py",
   "mimetype": "text/x-python",
   "name": "python",
   "nbconvert_exporter": "python",
   "pygments_lexer": "ipython3",
   "version": "3.9.13"
  }
 },
 "nbformat": 4,
 "nbformat_minor": 5
}
